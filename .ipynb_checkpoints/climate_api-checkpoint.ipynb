{
 "cells": [
  {
   "cell_type": "code",
   "execution_count": 1,
   "metadata": {},
   "outputs": [],
   "source": [
    "import pandas as pd\n",
    "import wbdata\n",
    "from pprint import pprint\n",
    "import requests\n",
    "import wbpy\n"
   ]
  },
  {
   "cell_type": "code",
   "execution_count": 2,
   "metadata": {},
   "outputs": [
    {
     "data": {
      "text/plain": [
       "{'pr': 'Precipitation (rainfall and assumed water equivalent), in millimeters',\n",
       " 'tas': 'Temperature, in degrees Celsius'}"
      ]
     },
     "execution_count": 2,
     "metadata": {},
     "output_type": "execute_result"
    }
   ],
   "source": [
    "c_api = wbpy.ClimateAPI()\n",
    "\n",
    "c_api.ARG_DEFINITIONS[\"instrumental_types\"]"
   ]
  },
  {
   "cell_type": "code",
   "execution_count": 3,
   "metadata": {},
   "outputs": [
    {
     "data": {
      "text/plain": [
       "['year', 'month', 'decade']"
      ]
     },
     "execution_count": 3,
     "metadata": {},
     "output_type": "execute_result"
    }
   ],
   "source": [
    "c_api.ARG_DEFINITIONS[\"instrumental_intervals\"]"
   ]
  },
  {
   "cell_type": "code",
   "execution_count": 4,
   "metadata": {},
   "outputs": [
    {
     "data": {
      "text/plain": [
       "<wbpy.climate.InstrumentalDataset({'tas': 'Temperature, in degrees Celsius'}, 'decade') with id: 1936835567176>"
      ]
     },
     "execution_count": 4,
     "metadata": {},
     "output_type": "execute_result"
    }
   ],
   "source": [
    "iso_and_basin_codes = [\"USA\", \"ABW\", \n",
    " \"AND\",\n",
    " 'ARE',\n",
    "'ARG',\n",
    "'ATG',\n",
    " 'AUS',\n",
    " 'AUT',\n",
    "'BEL',\n",
    "'BHR',\n",
    " 'BHS',\n",
    " 'BMU',\n",
    " 'BRB',\n",
    "'BRN',\n",
    "#'CHI'\n",
    "'CHE',\n",
    "'CHL',\n",
    "#'CUW',\n",
    "'CYM',\n",
    "'CYP',\n",
    "'CZE',\n",
    "'DEU',\n",
    "'DNK',\n",
    "'ESP',\n",
    "'EST',\n",
    " 'FIN',\n",
    "'FRA',\n",
    "'FRO',\n",
    "'GBR',\n",
    "'GIB',\n",
    "'GRC',\n",
    "'GUM',\n",
    "'HKG',\n",
    "'HRV',\n",
    "'HUN',\n",
    "'IMN',\n",
    "'IRL',\n",
    "'ISL',\n",
    "'ISR',\n",
    "'ITA',\n",
    "'JPN',\n",
    "'KNA',\n",
    "'KOR',\n",
    "'KWT',\n",
    "'LIE',\n",
    "'LTU',\n",
    "'LUX',\n",
    "'LVA',\n",
    "'MAC',\n",
    "#'MAF'\n",
    "'MCO',\n",
    "'MLT',\n",
    "'MNP',\n",
    "'NCL',\n",
    "'NLD',\n",
    "'NOR',\n",
    "'NZL',\n",
    "'OMN',\n",
    "'PAN',\n",
    "'PLW',\n",
    "'POL',\n",
    "'PRI',\n",
    "'PRT',\n",
    "'PYF',\n",
    "'QAT',\n",
    "'SAU',\n",
    "'SGP',\n",
    "'SMR',\n",
    "'SVK',\n",
    "'SVN',\n",
    "'SWE',\n",
    "#'SXM'\n",
    " 'SYC',\n",
    "'TCA',\n",
    "'TTO',\n",
    "'TWN',\n",
    " 'URY',\n",
    "'VGB',\n",
    " 'VIR']\n",
    "dataset = c_api.get_instrumental(data_type=\"tas\", interval=\"decade\", locations=iso_and_basin_codes)\n",
    "dataset"
   ]
  },
  {
   "cell_type": "code",
   "execution_count": 5,
   "metadata": {},
   "outputs": [
    {
     "data": {
      "text/plain": [
       "{'tmin_means': 'Average daily minimum temperature, Celsius',\n",
       " 'tmax_means': 'Average daily maximum temperature, Celsius',\n",
       " 'tmax_days90th': \"Number of days with max temperature above the control period's 90th percentile (hot days)\",\n",
       " 'tmin_days90th': \"Number of days with min temperature above the control period's 90th percentile (warm nights)\",\n",
       " 'tmax_days10th': \"Number of days with max temperature below the control period's 10th percentile (cool days)\",\n",
       " 'tmin_days10th': \"Number of days with min temperature below the control period's 10th percentile (cold nights)\",\n",
       " 'tmin_days0': 'Number of days with min temperature below 0 degrees Celsius',\n",
       " 'ppt_days': 'Number of days with precipitation > 0.2mm',\n",
       " 'ppt_days2': 'Number of days with precipitation > 2mm',\n",
       " 'ppt_days10': 'Number of days with precipitation > 10mm',\n",
       " 'ppt_days90th': \"Number of days with precipitation > the control period's 90th percentile\",\n",
       " 'ppt_dryspell': 'Average number of days between precipitation events',\n",
       " 'ppt_means': 'Average daily precipitation',\n",
       " 'pr': 'Precipitation (rainfall and assumed water equivalent), in millimeters',\n",
       " 'tas': 'Temperature, in degrees Celsius'}"
      ]
     },
     "execution_count": 5,
     "metadata": {},
     "output_type": "execute_result"
    }
   ],
   "source": [
    "c_api.ARG_DEFINITIONS[\"modelled_types\"]\n"
   ]
  },
  {
   "cell_type": "code",
   "execution_count": 6,
   "metadata": {},
   "outputs": [
    {
     "data": {
      "text/plain": [
       "{'mavg': 'Monthly average',\n",
       " 'annualavg': 'Annual average',\n",
       " 'manom': 'Average monthly change (anomaly).',\n",
       " 'annualanom': 'Average annual change (anomaly).',\n",
       " 'aanom': 'Average annual change (anomaly).',\n",
       " 'aavg': 'Annual average'}"
      ]
     },
     "execution_count": 6,
     "metadata": {},
     "output_type": "execute_result"
    }
   ],
   "source": [
    "c_api.ARG_DEFINITIONS[\"modelled_intervals\"]"
   ]
  },
  {
   "cell_type": "code",
   "execution_count": null,
   "metadata": {},
   "outputs": [],
   "source": [
    "locations = [\"USA\", \"ABW\", \n",
    " \"AND\",\n",
    " 'ARE',\n",
    "'ARG',\n",
    "'ATG',\n",
    " 'AUS',\n",
    " 'AUT',\n",
    "'BEL',\n",
    "'BHR',\n",
    " 'BHS',\n",
    " 'BMU',\n",
    " 'BRB',\n",
    "'BRN',\n",
    "#'CHI'\n",
    "'CHE',\n",
    "'CHL',\n",
    "#'CUW',\n",
    "'CYM',\n",
    "'CYP',\n",
    "'CZE',\n",
    "'DEU',\n",
    "'DNK',\n",
    "'ESP',\n",
    "'EST',\n",
    " 'FIN',\n",
    "'FRA',\n",
    "'FRO',\n",
    "'GBR',\n",
    "'GIB',\n",
    "'GRC',\n",
    "'GUM',\n",
    "'HKG',\n",
    "'HRV',\n",
    "'HUN',\n",
    "'IMN',\n",
    "'IRL',\n",
    "'ISL',\n",
    "'ISR',\n",
    "'ITA',\n",
    "'JPN',\n",
    "'KNA',\n",
    "'KOR',\n",
    "'KWT',\n",
    "'LIE',\n",
    "'LTU',\n",
    "'LUX',\n",
    "'LVA',\n",
    "'MAC',\n",
    "#'MAF'\n",
    "'MCO',\n",
    "'MLT',\n",
    "'MNP',\n",
    "'NCL',\n",
    "'NLD',\n",
    "'NOR',\n",
    "'NZL',\n",
    "'OMN',\n",
    "'PAN',\n",
    "'PLW',\n",
    "'POL',\n",
    "'PRI',\n",
    "'PRT',\n",
    "'PYF',\n",
    "'QAT',\n",
    "'SAU',\n",
    "'SGP',\n",
    "'SMR',\n",
    "'SVK',\n",
    "'SVN',\n",
    "'SWE',\n",
    "#'SXM'\n",
    " 'SYC',\n",
    "'TCA',\n",
    "'TTO',\n",
    "'TWN',\n",
    " 'URY',\n",
    "'VGB',\n",
    " 'VIR']\n",
    "modelled_dataset = c_api.get_modelled(\"tas\", \"annualavg\", locations)\n"
   ]
  },
  {
   "cell_type": "code",
   "execution_count": null,
   "metadata": {},
   "outputs": [],
   "source": [
    "pprint(modelled_dataset.as_dict(sres=\"a2\"))"
   ]
  },
  {
   "cell_type": "code",
   "execution_count": null,
   "metadata": {},
   "outputs": [],
   "source": []
  }
 ],
 "metadata": {
  "kernelspec": {
   "display_name": "Python 3",
   "language": "python",
   "name": "python3"
  },
  "language_info": {
   "codemirror_mode": {
    "name": "ipython",
    "version": 3
   },
   "file_extension": ".py",
   "mimetype": "text/x-python",
   "name": "python",
   "nbconvert_exporter": "python",
   "pygments_lexer": "ipython3",
   "version": "3.6.5"
  }
 },
 "nbformat": 4,
 "nbformat_minor": 2
}
