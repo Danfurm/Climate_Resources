{
 "cells": [
  {
   "cell_type": "code",
   "execution_count": 9,
   "metadata": {},
   "outputs": [],
   "source": [
    "import pandas as pd\n"
   ]
  },
  {
   "cell_type": "code",
   "execution_count": 10,
   "metadata": {},
   "outputs": [
    {
     "data": {
      "text/html": [
       "<div>\n",
       "<style scoped>\n",
       "    .dataframe tbody tr th:only-of-type {\n",
       "        vertical-align: middle;\n",
       "    }\n",
       "\n",
       "    .dataframe tbody tr th {\n",
       "        vertical-align: top;\n",
       "    }\n",
       "\n",
       "    .dataframe thead th {\n",
       "        text-align: right;\n",
       "    }\n",
       "</style>\n",
       "<table border=\"1\" class=\"dataframe\">\n",
       "  <thead>\n",
       "    <tr style=\"text-align: right;\">\n",
       "      <th></th>\n",
       "      <th>date</th>\n",
       "      <th>AverageTemperature</th>\n",
       "      <th>AverageTemperatureUncertainty</th>\n",
       "      <th>Country</th>\n",
       "    </tr>\n",
       "  </thead>\n",
       "  <tbody>\n",
       "    <tr>\n",
       "      <th>0</th>\n",
       "      <td>1743-11-01</td>\n",
       "      <td>4.384</td>\n",
       "      <td>2.294</td>\n",
       "      <td>Åland</td>\n",
       "    </tr>\n",
       "    <tr>\n",
       "      <th>1</th>\n",
       "      <td>1743-12-01</td>\n",
       "      <td>NaN</td>\n",
       "      <td>NaN</td>\n",
       "      <td>Åland</td>\n",
       "    </tr>\n",
       "    <tr>\n",
       "      <th>2</th>\n",
       "      <td>1744-01-01</td>\n",
       "      <td>NaN</td>\n",
       "      <td>NaN</td>\n",
       "      <td>Åland</td>\n",
       "    </tr>\n",
       "    <tr>\n",
       "      <th>3</th>\n",
       "      <td>1744-02-01</td>\n",
       "      <td>NaN</td>\n",
       "      <td>NaN</td>\n",
       "      <td>Åland</td>\n",
       "    </tr>\n",
       "    <tr>\n",
       "      <th>4</th>\n",
       "      <td>1744-03-01</td>\n",
       "      <td>NaN</td>\n",
       "      <td>NaN</td>\n",
       "      <td>Åland</td>\n",
       "    </tr>\n",
       "  </tbody>\n",
       "</table>\n",
       "</div>"
      ],
      "text/plain": [
       "         date  AverageTemperature  AverageTemperatureUncertainty Country\n",
       "0  1743-11-01               4.384                          2.294   Åland\n",
       "1  1743-12-01                 NaN                            NaN   Åland\n",
       "2  1744-01-01                 NaN                            NaN   Åland\n",
       "3  1744-02-01                 NaN                            NaN   Åland\n",
       "4  1744-03-01                 NaN                            NaN   Åland"
      ]
     },
     "execution_count": 10,
     "metadata": {},
     "output_type": "execute_result"
    }
   ],
   "source": [
    "# The path to our CSV file\n",
    "file = \"Resources/GlobalLandTemperaturesByCountry.csv\"\n",
    "\n",
    "# Read our avg temp data into pandas\n",
    "country_avg_temp_df = pd.read_csv(file)\n",
    "country_avg_temp_df.head()"
   ]
  },
  {
   "cell_type": "code",
   "execution_count": 14,
   "metadata": {},
   "outputs": [],
   "source": [
    "#dropped empty rows\n",
    "country_avg_temp_df = country_avg_temp_df.dropna(how='any')\n",
    "\n"
   ]
  },
  {
   "cell_type": "code",
   "execution_count": 15,
   "metadata": {},
   "outputs": [
    {
     "data": {
      "text/plain": [
       "Slovenia                                     3166\n",
       "Bulgaria                                     3166\n",
       "Isle Of Man                                  3166\n",
       "Netherlands                                  3166\n",
       "Luxembourg                                   3166\n",
       "Albania                                      3166\n",
       "San Marino                                   3166\n",
       "Serbia                                       3166\n",
       "Monaco                                       3166\n",
       "Åland                                        3166\n",
       "Estonia                                      3166\n",
       "Sweden                                       3166\n",
       "Moldova                                      3166\n",
       "Ireland                                      3166\n",
       "Austria                                      3166\n",
       "Jersey                                       3166\n",
       "Bosnia And Herzegovina                       3166\n",
       "Switzerland                                  3166\n",
       "France                                       3166\n",
       "Czech Republic                               3166\n",
       "Iceland                                      3166\n",
       "Liechtenstein                                3166\n",
       "Europe                                       3166\n",
       "Denmark (Europe)                             3166\n",
       "Lithuania                                    3166\n",
       "Belarus                                      3166\n",
       "United Kingdom (Europe)                      3166\n",
       "Italy                                        3166\n",
       "Belgium                                      3166\n",
       "Poland                                       3166\n",
       "                                             ... \n",
       "Mozambique                                   1679\n",
       "Kenya                                        1679\n",
       "Ethiopia                                     1679\n",
       "Somalia                                      1679\n",
       "Eritrea                                      1672\n",
       "Malawi                                       1660\n",
       "Djibouti                                     1658\n",
       "Yemen                                        1649\n",
       "Tonga                                        1630\n",
       "Fiji                                         1630\n",
       "Niue                                         1629\n",
       "Samoa                                        1629\n",
       "American Samoa                               1629\n",
       "Timor Leste                                  1626\n",
       "French Polynesia                             1623\n",
       "Tanzania                                     1595\n",
       "Peru                                         1591\n",
       "Ecuador                                      1585\n",
       "Papua New Guinea                             1580\n",
       "Palmyra Atoll                                1568\n",
       "Kingman Reef                                 1568\n",
       "Solomon Islands                              1568\n",
       "Kiribati                                     1567\n",
       "Palau                                        1558\n",
       "South Georgia And The South Sandwich Isla    1474\n",
       "Federated States Of Micronesia               1364\n",
       "Northern Mariana Islands                     1328\n",
       "Guam                                         1328\n",
       "French Southern And Antarctic Lands           783\n",
       "Heard Island And Mcdonald Islands             783\n",
       "Name: Country, Length: 242, dtype: int64"
      ]
     },
     "execution_count": 15,
     "metadata": {},
     "output_type": "execute_result"
    }
   ],
   "source": [
    "#how many countries \n",
    "country_avg_temp_df['Country'].value_counts()\n",
    "\n"
   ]
  },
  {
   "cell_type": "code",
   "execution_count": 17,
   "metadata": {},
   "outputs": [],
   "source": [
    "usa = country_avg_temp_df.loc[country_avg_temp_df[\"Country\"] == \"United States\"]\n",
    "\n"
   ]
  },
  {
   "cell_type": "code",
   "execution_count": 23,
   "metadata": {
    "scrolled": true
   },
   "outputs": [
    {
     "ename": "SyntaxError",
     "evalue": "unexpected EOF while parsing (<ipython-input-23-c09099c307f2>, line 1)",
     "output_type": "error",
     "traceback": [
      "\u001b[1;36m  File \u001b[1;32m\"<ipython-input-23-c09099c307f2>\"\u001b[1;36m, line \u001b[1;32m1\u001b[0m\n\u001b[1;33m    avg_temp_usa = usa.loc[usa[\"AverageTemperature\"]\u001b[0m\n\u001b[1;37m                                                    ^\u001b[0m\n\u001b[1;31mSyntaxError\u001b[0m\u001b[1;31m:\u001b[0m unexpected EOF while parsing\n"
     ]
    }
   ],
   "source": []
  },
  {
   "cell_type": "code",
   "execution_count": null,
   "metadata": {},
   "outputs": [],
   "source": []
  }
 ],
 "metadata": {
  "kernelspec": {
   "display_name": "Python 3",
   "language": "python",
   "name": "python3"
  },
  "language_info": {
   "codemirror_mode": {
    "name": "ipython",
    "version": 3
   },
   "file_extension": ".py",
   "mimetype": "text/x-python",
   "name": "python",
   "nbconvert_exporter": "python",
   "pygments_lexer": "ipython3",
   "version": "3.6.5"
  }
 },
 "nbformat": 4,
 "nbformat_minor": 2
}
